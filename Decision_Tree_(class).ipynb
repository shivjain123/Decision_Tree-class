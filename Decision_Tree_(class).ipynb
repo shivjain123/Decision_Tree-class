{
  "nbformat": 4,
  "nbformat_minor": 0,
  "metadata": {
    "colab": {
      "name": "Decision Tree (class).ipynb",
      "provenance": [],
      "authorship_tag": "ABX9TyO5fYnUkOUO5w1fR6i5+6ju",
      "include_colab_link": true
    },
    "kernelspec": {
      "name": "python3",
      "display_name": "Python 3"
    },
    "language_info": {
      "name": "python"
    }
  },
  "cells": [
    {
      "cell_type": "markdown",
      "metadata": {
        "id": "view-in-github",
        "colab_type": "text"
      },
      "source": [
        "<a href=\"https://colab.research.google.com/github/shivjain123/Decision_Tree-class/blob/master/Decision_Tree_(class).ipynb\" target=\"_parent\"><img src=\"https://colab.research.google.com/assets/colab-badge.svg\" alt=\"Open In Colab\"/></a>"
      ]
    },
    {
      "cell_type": "code",
      "metadata": {
        "id": "kEedGGNX6qsv"
      },
      "source": [
        "import pandas as p\n",
        "\n",
        "col_names = [\"pregnant\", \"glucose\", \"bp\", \"skin\", \"insulin\", 'bmi', \"pedigree\", \"age\", \"label\"]\n",
        "\n",
        "df = p.read_csv(\"https://raw.githubusercontent.com/whitehatjr/datasets/master/C119/diabetes.csv\", names = col_names).iloc[1:]\n",
        "\n",
        "print(df.head())"
      ],
      "execution_count": null,
      "outputs": []
    },
    {
      "cell_type": "code",
      "metadata": {
        "id": "SEe_6OwlA0S-"
      },
      "source": [
        "features = [\"pregnant\", \"glucose\", \"bp\", \"insulin\", \"bmi\", \"pedigree\", \"age\"]\n",
        "X = df[features]\n",
        "Y = df.label"
      ],
      "execution_count": 2,
      "outputs": []
    },
    {
      "cell_type": "code",
      "metadata": {
        "id": "nnNBOWFlBQ_c"
      },
      "source": [
        "from sklearn.tree import DecisionTreeClassifier\n",
        "from sklearn.model_selection import train_test_split as tts\n",
        "from sklearn import metrics as m\n",
        "\n",
        "x_train, x_test, y_train, y_test = tts(X, Y, test_size = 0.3, random_state = 1)\n",
        "\n",
        "dtcl = DecisionTreeClassifier(max_depth = 3)\n",
        "\n",
        "dtcl.fit(x_train, y_train)\n",
        "\n",
        "y_predict = dtcl.predict(x_test)\n",
        "m.accuracy_score(y_test, y_predict)"
      ],
      "execution_count": null,
      "outputs": []
    },
    {
      "cell_type": "code",
      "metadata": {
        "id": "kA7ZMYg2CEQB"
      },
      "source": [
        "from sklearn.tree import export_graphviz as eg\n",
        "from sklearn.externals.six import StringIO\n",
        "from IPython.display import Image\n",
        "import pydotplus as pdp\n",
        "\n",
        "dot_data = StringIO()\n",
        "\n",
        "eg(dtcl, out_file = dot_data, filled = True, rounded = True, special_characters = True, feature_names = features, class_names = ['0', '1'])\n",
        "\n",
        "print(dot_data.getvalue())"
      ],
      "execution_count": null,
      "outputs": []
    },
    {
      "cell_type": "code",
      "metadata": {
        "id": "Cx1xbkr5DzT0"
      },
      "source": [
        "graph = pdp.graph_from_dot_data(dot_data.getvalue())\n",
        "graph.write_png('diabetes.png')\n",
        "Image(graph.create_png())"
      ],
      "execution_count": null,
      "outputs": []
    }
  ]
}